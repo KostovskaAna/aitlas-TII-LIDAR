{
 "cells": [
  {
   "cell_type": "markdown",
   "metadata": {},
   "source": [
    "# A notebook for making predictions on new patches"
   ]
  },
  {
   "cell_type": "markdown",
   "metadata": {},
   "source": [
    "## Object detection"
   ]
  },
  {
   "cell_type": "markdown",
   "metadata": {},
   "source": [
    "<font size=\"3\">Import the required packages</font>"
   ]
  },
  {
   "cell_type": "code",
   "execution_count": 14,
   "metadata": {},
   "outputs": [],
   "source": [
    "from aitlas.models import FasterRCNN\n",
    "from utils import make_predictions_on_patches_object_detection"
   ]
  },
  {
   "cell_type": "markdown",
   "metadata": {},
   "source": [
    "<font size=\"3\">Load the model</font>"
   ]
  },
  {
   "cell_type": "code",
   "execution_count": 15,
   "metadata": {},
   "outputs": [
    {
     "name": "stderr",
     "output_type": "stream",
     "text": [
      "2023-11-27 10:22:37,113 INFO Loading checkpoint ./data//models/object_detection/OD_AO.tar\n",
      "2023-11-27 10:22:37,701 INFO Loaded checkpoint ./data//models/object_detection/OD_AO.tar at epoch 12\n"
     ]
    },
    {
     "name": "stdout",
     "output_type": "stream",
     "text": [
      "Model successfully loaded.\n"
     ]
    }
   ],
   "source": [
    "# Specify the path to the model\n",
    "model_path = './data//models/object_detection/OD_AO.tar'\n",
    "\n",
    "# The following code contains the default model configuration.\n",
    "# If you are using a custom model, make sure to modify the configuration accordingly.\n",
    "\n",
    "# Start model configuration\n",
    "model_config = {\n",
    "    \"num_classes\": 2,  # Number of classes in the dataset\n",
    "    \"learning_rate\": 0.0001,  # Learning rate for training\n",
    "    \"pretrained\": True,  # Whether to use a pretrained model or not\n",
    "    \"use_cuda\": False,  # Set to True if you want to use GPU acceleration\n",
    "    \"metrics\": [\"map\"]  # Evaluation metrics to be used\n",
    "}\n",
    "model = FasterRCNN(model_config)\n",
    "# End model configuration\n",
    "\n",
    "model.prepare()\n",
    "model.load_model(model_path)\n",
    "print(\"Model successfully loaded.\")\n"
   ]
  },
  {
   "cell_type": "markdown",
   "metadata": {},
   "source": [
    "<font size=\"3\"> Run the following cell to obtain the predictions. </font>"
   ]
  },
  {
   "cell_type": "code",
   "execution_count": 16,
   "metadata": {},
   "outputs": [
    {
     "name": "stdout",
     "output_type": "stream",
     "text": [
      "Generating predictions:\n",
      ">>>  77376_96960__ISA-81_Kilgorlin-Ballymalis__SLRM.tif\n",
      ">>>  147584_208000__ISA-179_Gort-Ardrahan__SLRM.tif\n",
      ">>>  148096_204160__ISA-179_Gort-Ardrahan__SLRM.tif\n",
      ">>>  146688_210048__Noise_Mapping__SLRM.tif\n",
      ">>>  556672_95872__TV59NE__SLRM.tif\n"
     ]
    }
   ],
   "source": [
    "# insert the path to the folder containing the ML ready patches on which you want to generate predictions\n",
    "patches_dir='./data/unlabeled_ML_ready_data'\n",
    "# insert the path to the folder where you want to save the predictions\n",
    "predictions_dir = './data/predictions_binary_object_detection'\n",
    "# set the label of the object class you want to predict e.g., AO, barrow, ringfort, enclosure\n",
    "label = 'AO'\n",
    "\n",
    "make_predictions_on_patches_object_detection(model = model, label=label, patches_folder = patches_dir, predictions_dir=predictions_dir)"
   ]
  }
 ],
 "metadata": {
  "kernelspec": {
   "display_name": "aitlas-wheel",
   "language": "python",
   "name": "aitlas-wheel"
  },
  "language_info": {
   "codemirror_mode": {
    "name": "ipython",
    "version": 3
   },
   "file_extension": ".py",
   "mimetype": "text/x-python",
   "name": "python",
   "nbconvert_exporter": "python",
   "pygments_lexer": "ipython3",
   "version": "3.8.18"
  }
 },
 "nbformat": 4,
 "nbformat_minor": 2
}
